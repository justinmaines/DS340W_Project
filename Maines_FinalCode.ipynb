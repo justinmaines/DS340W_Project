{
 "cells": [
  {
   "cell_type": "markdown",
   "metadata": {},
   "source": [
    "Library Imports"
   ]
  },
  {
   "cell_type": "code",
   "execution_count": 2,
   "metadata": {},
   "outputs": [],
   "source": [
    "import pandas as pd\n",
    "import numpy as np\n",
    "from sklearn.preprocessing import LabelEncoder\n",
    "from sklearn.model_selection import train_test_split\n",
    "from sklearn.metrics import classification_report\n",
    "from sklearn.tree import DecisionTreeClassifier\n",
    "from sklearn.ensemble import RandomForestClassifier\n",
    "from sklearn.utils import resample\n",
    "from sklearn.ensemble import AdaBoostClassifier\n",
    "import xgboost as xgb"
   ]
  },
  {
   "cell_type": "markdown",
   "metadata": {},
   "source": [
    "Data Import"
   ]
  },
  {
   "cell_type": "code",
   "execution_count": 3,
   "metadata": {},
   "outputs": [
    {
     "name": "stderr",
     "output_type": "stream",
     "text": [
      "/var/folders/p5/qzpvt10n3xl95s2g2sx_w5c00000gn/T/ipykernel_3519/882422459.py:1: DtypeWarning: Columns (1,48,58,117,127,128,129,132,133,134,137) have mixed types. Specify dtype option on import or set low_memory=False.\n",
      "  data = pd.read_csv(\"data/Loan_status_2007-2020Q3.gzip\", index_col=0)\n"
     ]
    }
   ],
   "source": [
    "data = pd.read_csv(\"data/Loan_status_2007-2020Q3.gzip\", index_col=0)"
   ]
  },
  {
   "cell_type": "code",
   "execution_count": null,
   "metadata": {},
   "outputs": [],
   "source": []
  },
  {
   "cell_type": "code",
   "execution_count": 17,
   "metadata": {},
   "outputs": [
    {
     "data": {
      "text/plain": [
       "(2925493, 141)"
      ]
     },
     "execution_count": 17,
     "metadata": {},
     "output_type": "execute_result"
    }
   ],
   "source": [
    "data.shape"
   ]
  },
  {
   "cell_type": "code",
   "execution_count": 4,
   "metadata": {},
   "outputs": [
    {
     "data": {
      "text/html": [
       "<div>\n",
       "<style scoped>\n",
       "    .dataframe tbody tr th:only-of-type {\n",
       "        vertical-align: middle;\n",
       "    }\n",
       "\n",
       "    .dataframe tbody tr th {\n",
       "        vertical-align: top;\n",
       "    }\n",
       "\n",
       "    .dataframe thead th {\n",
       "        text-align: right;\n",
       "    }\n",
       "</style>\n",
       "<table border=\"1\" class=\"dataframe\">\n",
       "  <thead>\n",
       "    <tr style=\"text-align: right;\">\n",
       "      <th></th>\n",
       "      <th>id</th>\n",
       "      <th>loan_amnt</th>\n",
       "      <th>funded_amnt</th>\n",
       "      <th>funded_amnt_inv</th>\n",
       "      <th>term</th>\n",
       "      <th>int_rate</th>\n",
       "      <th>installment</th>\n",
       "      <th>grade</th>\n",
       "      <th>sub_grade</th>\n",
       "      <th>emp_title</th>\n",
       "      <th>...</th>\n",
       "      <th>hardship_start_date</th>\n",
       "      <th>hardship_end_date</th>\n",
       "      <th>payment_plan_start_date</th>\n",
       "      <th>hardship_length</th>\n",
       "      <th>hardship_dpd</th>\n",
       "      <th>hardship_loan_status</th>\n",
       "      <th>orig_projected_additional_accrued_interest</th>\n",
       "      <th>hardship_payoff_balance_amount</th>\n",
       "      <th>hardship_last_payment_amount</th>\n",
       "      <th>debt_settlement_flag</th>\n",
       "    </tr>\n",
       "  </thead>\n",
       "  <tbody>\n",
       "    <tr>\n",
       "      <th>0</th>\n",
       "      <td>1077501</td>\n",
       "      <td>5000.0</td>\n",
       "      <td>5000.0</td>\n",
       "      <td>4975.0</td>\n",
       "      <td>36 months</td>\n",
       "      <td>10.65%</td>\n",
       "      <td>162.87</td>\n",
       "      <td>B</td>\n",
       "      <td>B2</td>\n",
       "      <td>NaN</td>\n",
       "      <td>...</td>\n",
       "      <td>NaN</td>\n",
       "      <td>NaN</td>\n",
       "      <td>NaN</td>\n",
       "      <td>NaN</td>\n",
       "      <td>NaN</td>\n",
       "      <td>NaN</td>\n",
       "      <td>NaN</td>\n",
       "      <td>NaN</td>\n",
       "      <td>NaN</td>\n",
       "      <td>N</td>\n",
       "    </tr>\n",
       "    <tr>\n",
       "      <th>1</th>\n",
       "      <td>1077430</td>\n",
       "      <td>2500.0</td>\n",
       "      <td>2500.0</td>\n",
       "      <td>2500.0</td>\n",
       "      <td>60 months</td>\n",
       "      <td>15.27%</td>\n",
       "      <td>59.83</td>\n",
       "      <td>C</td>\n",
       "      <td>C4</td>\n",
       "      <td>Ryder</td>\n",
       "      <td>...</td>\n",
       "      <td>NaN</td>\n",
       "      <td>NaN</td>\n",
       "      <td>NaN</td>\n",
       "      <td>NaN</td>\n",
       "      <td>NaN</td>\n",
       "      <td>NaN</td>\n",
       "      <td>NaN</td>\n",
       "      <td>NaN</td>\n",
       "      <td>NaN</td>\n",
       "      <td>N</td>\n",
       "    </tr>\n",
       "    <tr>\n",
       "      <th>2</th>\n",
       "      <td>1077175</td>\n",
       "      <td>2400.0</td>\n",
       "      <td>2400.0</td>\n",
       "      <td>2400.0</td>\n",
       "      <td>36 months</td>\n",
       "      <td>15.96%</td>\n",
       "      <td>84.33</td>\n",
       "      <td>C</td>\n",
       "      <td>C5</td>\n",
       "      <td>NaN</td>\n",
       "      <td>...</td>\n",
       "      <td>NaN</td>\n",
       "      <td>NaN</td>\n",
       "      <td>NaN</td>\n",
       "      <td>NaN</td>\n",
       "      <td>NaN</td>\n",
       "      <td>NaN</td>\n",
       "      <td>NaN</td>\n",
       "      <td>NaN</td>\n",
       "      <td>NaN</td>\n",
       "      <td>N</td>\n",
       "    </tr>\n",
       "    <tr>\n",
       "      <th>3</th>\n",
       "      <td>1076863</td>\n",
       "      <td>10000.0</td>\n",
       "      <td>10000.0</td>\n",
       "      <td>10000.0</td>\n",
       "      <td>36 months</td>\n",
       "      <td>13.49%</td>\n",
       "      <td>339.31</td>\n",
       "      <td>C</td>\n",
       "      <td>C1</td>\n",
       "      <td>AIR RESOURCES BOARD</td>\n",
       "      <td>...</td>\n",
       "      <td>NaN</td>\n",
       "      <td>NaN</td>\n",
       "      <td>NaN</td>\n",
       "      <td>NaN</td>\n",
       "      <td>NaN</td>\n",
       "      <td>NaN</td>\n",
       "      <td>NaN</td>\n",
       "      <td>NaN</td>\n",
       "      <td>NaN</td>\n",
       "      <td>N</td>\n",
       "    </tr>\n",
       "    <tr>\n",
       "      <th>4</th>\n",
       "      <td>1075358</td>\n",
       "      <td>3000.0</td>\n",
       "      <td>3000.0</td>\n",
       "      <td>3000.0</td>\n",
       "      <td>60 months</td>\n",
       "      <td>12.69%</td>\n",
       "      <td>67.79</td>\n",
       "      <td>B</td>\n",
       "      <td>B5</td>\n",
       "      <td>University Medical Group</td>\n",
       "      <td>...</td>\n",
       "      <td>NaN</td>\n",
       "      <td>NaN</td>\n",
       "      <td>NaN</td>\n",
       "      <td>NaN</td>\n",
       "      <td>NaN</td>\n",
       "      <td>NaN</td>\n",
       "      <td>NaN</td>\n",
       "      <td>NaN</td>\n",
       "      <td>NaN</td>\n",
       "      <td>N</td>\n",
       "    </tr>\n",
       "  </tbody>\n",
       "</table>\n",
       "<p>5 rows × 141 columns</p>\n",
       "</div>"
      ],
      "text/plain": [
       "        id  loan_amnt  funded_amnt  funded_amnt_inv        term int_rate  \\\n",
       "0  1077501     5000.0       5000.0           4975.0   36 months   10.65%   \n",
       "1  1077430     2500.0       2500.0           2500.0   60 months   15.27%   \n",
       "2  1077175     2400.0       2400.0           2400.0   36 months   15.96%   \n",
       "3  1076863    10000.0      10000.0          10000.0   36 months   13.49%   \n",
       "4  1075358     3000.0       3000.0           3000.0   60 months   12.69%   \n",
       "\n",
       "   installment grade sub_grade                 emp_title  ...  \\\n",
       "0       162.87     B        B2                       NaN  ...   \n",
       "1        59.83     C        C4                     Ryder  ...   \n",
       "2        84.33     C        C5                       NaN  ...   \n",
       "3       339.31     C        C1       AIR RESOURCES BOARD  ...   \n",
       "4        67.79     B        B5  University Medical Group  ...   \n",
       "\n",
       "  hardship_start_date hardship_end_date  payment_plan_start_date  \\\n",
       "0                 NaN               NaN                      NaN   \n",
       "1                 NaN               NaN                      NaN   \n",
       "2                 NaN               NaN                      NaN   \n",
       "3                 NaN               NaN                      NaN   \n",
       "4                 NaN               NaN                      NaN   \n",
       "\n",
       "  hardship_length hardship_dpd hardship_loan_status  \\\n",
       "0             NaN          NaN                  NaN   \n",
       "1             NaN          NaN                  NaN   \n",
       "2             NaN          NaN                  NaN   \n",
       "3             NaN          NaN                  NaN   \n",
       "4             NaN          NaN                  NaN   \n",
       "\n",
       "  orig_projected_additional_accrued_interest hardship_payoff_balance_amount  \\\n",
       "0                                        NaN                            NaN   \n",
       "1                                        NaN                            NaN   \n",
       "2                                        NaN                            NaN   \n",
       "3                                        NaN                            NaN   \n",
       "4                                        NaN                            NaN   \n",
       "\n",
       "  hardship_last_payment_amount debt_settlement_flag  \n",
       "0                          NaN                    N  \n",
       "1                          NaN                    N  \n",
       "2                          NaN                    N  \n",
       "3                          NaN                    N  \n",
       "4                          NaN                    N  \n",
       "\n",
       "[5 rows x 141 columns]"
      ]
     },
     "execution_count": 4,
     "metadata": {},
     "output_type": "execute_result"
    }
   ],
   "source": [
    "data.head()"
   ]
  },
  {
   "cell_type": "markdown",
   "metadata": {},
   "source": [
    "Data Processing/EDA"
   ]
  },
  {
   "cell_type": "code",
   "execution_count": 18,
   "metadata": {},
   "outputs": [],
   "source": [
    "# Keep subset of columns needed\n",
    "ds = data[[\"loan_amnt\", \"term\", \"int_rate\", \"grade\", \"sub_grade\", \"home_ownership\", \"purpose\", \"dti\", \"loan_status\", \"revol_bal\"]].dropna()\n",
    "\n",
    "# Change \"loan_status\" to binary category of well performing and bad performing\n",
    "ds[\"loan_status\"] = np.where((ds[\"loan_status\"] == \"Fully Paid\") | (ds[\"loan_status\"] == \"Current\"), 0, 1)\n",
    "\n",
    "# Change categorical variables to encoded labels\n",
    "ds[[\"term\", \"grade\", \"sub_grade\", \"home_ownership\", \"purpose\"]] = ds[[\"term\", \"grade\", \"sub_grade\", \"home_ownership\", \"purpose\"]].apply(LabelEncoder().fit_transform)\n",
    "\n",
    "# Convert string interest rate to float value\n",
    "ds[\"int_rate\"] = (ds[\"int_rate\"].str.strip(\"%\").astype('float64'))/100"
   ]
  },
  {
   "cell_type": "markdown",
   "metadata": {},
   "source": [
    "Check to make sure table looks correct"
   ]
  },
  {
   "cell_type": "code",
   "execution_count": 20,
   "metadata": {},
   "outputs": [
    {
     "data": {
      "text/html": [
       "<div>\n",
       "<style scoped>\n",
       "    .dataframe tbody tr th:only-of-type {\n",
       "        vertical-align: middle;\n",
       "    }\n",
       "\n",
       "    .dataframe tbody tr th {\n",
       "        vertical-align: top;\n",
       "    }\n",
       "\n",
       "    .dataframe thead th {\n",
       "        text-align: right;\n",
       "    }\n",
       "</style>\n",
       "<table border=\"1\" class=\"dataframe\">\n",
       "  <thead>\n",
       "    <tr style=\"text-align: right;\">\n",
       "      <th></th>\n",
       "      <th>loan_amnt</th>\n",
       "      <th>term</th>\n",
       "      <th>int_rate</th>\n",
       "      <th>grade</th>\n",
       "      <th>sub_grade</th>\n",
       "      <th>home_ownership</th>\n",
       "      <th>purpose</th>\n",
       "      <th>dti</th>\n",
       "      <th>loan_status</th>\n",
       "      <th>revol_bal</th>\n",
       "    </tr>\n",
       "  </thead>\n",
       "  <tbody>\n",
       "    <tr>\n",
       "      <th>0</th>\n",
       "      <td>5000.0</td>\n",
       "      <td>0</td>\n",
       "      <td>0.1065</td>\n",
       "      <td>1</td>\n",
       "      <td>6</td>\n",
       "      <td>5</td>\n",
       "      <td>1</td>\n",
       "      <td>27.65</td>\n",
       "      <td>0</td>\n",
       "      <td>13648.0</td>\n",
       "    </tr>\n",
       "    <tr>\n",
       "      <th>1</th>\n",
       "      <td>2500.0</td>\n",
       "      <td>1</td>\n",
       "      <td>0.1527</td>\n",
       "      <td>2</td>\n",
       "      <td>13</td>\n",
       "      <td>5</td>\n",
       "      <td>0</td>\n",
       "      <td>1.00</td>\n",
       "      <td>1</td>\n",
       "      <td>1687.0</td>\n",
       "    </tr>\n",
       "    <tr>\n",
       "      <th>2</th>\n",
       "      <td>2400.0</td>\n",
       "      <td>0</td>\n",
       "      <td>0.1596</td>\n",
       "      <td>2</td>\n",
       "      <td>14</td>\n",
       "      <td>5</td>\n",
       "      <td>11</td>\n",
       "      <td>8.72</td>\n",
       "      <td>0</td>\n",
       "      <td>2956.0</td>\n",
       "    </tr>\n",
       "    <tr>\n",
       "      <th>3</th>\n",
       "      <td>10000.0</td>\n",
       "      <td>0</td>\n",
       "      <td>0.1349</td>\n",
       "      <td>2</td>\n",
       "      <td>10</td>\n",
       "      <td>5</td>\n",
       "      <td>9</td>\n",
       "      <td>20.00</td>\n",
       "      <td>0</td>\n",
       "      <td>5598.0</td>\n",
       "    </tr>\n",
       "    <tr>\n",
       "      <th>4</th>\n",
       "      <td>3000.0</td>\n",
       "      <td>1</td>\n",
       "      <td>0.1269</td>\n",
       "      <td>1</td>\n",
       "      <td>9</td>\n",
       "      <td>5</td>\n",
       "      <td>9</td>\n",
       "      <td>17.94</td>\n",
       "      <td>0</td>\n",
       "      <td>27783.0</td>\n",
       "    </tr>\n",
       "  </tbody>\n",
       "</table>\n",
       "</div>"
      ],
      "text/plain": [
       "   loan_amnt  term  int_rate  grade  sub_grade  home_ownership  purpose  \\\n",
       "0     5000.0     0    0.1065      1          6               5        1   \n",
       "1     2500.0     1    0.1527      2         13               5        0   \n",
       "2     2400.0     0    0.1596      2         14               5       11   \n",
       "3    10000.0     0    0.1349      2         10               5        9   \n",
       "4     3000.0     1    0.1269      1          9               5        9   \n",
       "\n",
       "     dti  loan_status  revol_bal  \n",
       "0  27.65            0    13648.0  \n",
       "1   1.00            1     1687.0  \n",
       "2   8.72            0     2956.0  \n",
       "3  20.00            0     5598.0  \n",
       "4  17.94            0    27783.0  "
      ]
     },
     "execution_count": 20,
     "metadata": {},
     "output_type": "execute_result"
    }
   ],
   "source": [
    "ds.head()"
   ]
  },
  {
   "cell_type": "markdown",
   "metadata": {},
   "source": [
    "Split data into a set to continue preprocessing and a set to test the model with (validation)"
   ]
  },
  {
   "cell_type": "code",
   "execution_count": 21,
   "metadata": {},
   "outputs": [],
   "source": [
    "ds_p, ds_val = np.split(ds.sample(frac=1), [int(0.8*len(ds))])\n",
    "val_X = ds_val.drop(\"loan_status\", axis=1)\n",
    "val_y = ds_val[\"loan_status\"]"
   ]
  },
  {
   "cell_type": "markdown",
   "metadata": {},
   "source": [
    "Explore the class imbalance of our target variable"
   ]
  },
  {
   "cell_type": "code",
   "execution_count": 65,
   "metadata": {},
   "outputs": [
    {
     "data": {
      "text/plain": [
       "<Axes: title={'center': 'Ratio of loan types: pre downbalancing'}, ylabel='Type'>"
      ]
     },
     "execution_count": 65,
     "metadata": {},
     "output_type": "execute_result"
    },
    {
     "data": {
      "image/png": "[encoded data removed]",
      "text/plain": [
       "<Figure size 640x480 with 1 Axes>"
      ]
     },
     "metadata": {},
     "output_type": "display_data"
    }
   ],
   "source": [
    "ds_p.groupby('loan_status').size().plot(kind='pie',\n",
    "                                               y='loan_status',\n",
    "                                               label='Type',\n",
    "                                               title='Ratio of loan types: pre downbalancing',\n",
    "                                               autopct='%1.1f%%')"
   ]
  },
  {
   "cell_type": "code",
   "execution_count": 24,
   "metadata": {},
   "outputs": [],
   "source": [
    "zero_class = ds_p[ds_p[\"loan_status\"] == 0]\n",
    "one_class = ds_p[ds_p[\"loan_status\"] == 1]\n",
    "\n",
    "zero_downsample = resample(zero_class,\n",
    "                           replace=True,\n",
    "                           n_samples=int(len(one_class))*2,\n",
    "                           random_state=63)\n",
    "\n",
    "dd = pd.concat([zero_downsample, one_class])"
   ]
  },
  {
   "cell_type": "code",
   "execution_count": 25,
   "metadata": {},
   "outputs": [
    {
     "data": {
      "text/plain": [
       "<Axes: title={'center': 'Ratio of loan types: post downbalancing'}, ylabel='Type'>"
      ]
     },
     "execution_count": 25,
     "metadata": {},
     "output_type": "execute_result"
    },
    {
     "data": {
      "image/png": "[encoded data removed]",
      "text/plain": [
       "<Figure size 640x480 with 1 Axes>"
      ]
     },
     "metadata": {},
     "output_type": "display_data"
    }
   ],
   "source": [
    "dd.groupby('loan_status').size().plot(kind='pie',\n",
    "                                               y='loan_status',\n",
    "                                               label='Type',\n",
    "                                               title='Ratio of loan types: post downbalancing',\n",
    "                                               autopct='%1.1f%%')"
   ]
  },
  {
   "cell_type": "markdown",
   "metadata": {},
   "source": [
    "Generate Train/Test Split"
   ]
  },
  {
   "cell_type": "code",
   "execution_count": 26,
   "metadata": {},
   "outputs": [],
   "source": [
    "X = dd.drop(\"loan_status\", axis=1)\n",
    "y = dd[\"loan_status\"]\n",
    "\n",
    "X_train, X_test, y_train, y_test = train_test_split(\n",
    "    X, y, test_size = 0.2, random_state = 42)"
   ]
  },
  {
   "cell_type": "markdown",
   "metadata": {},
   "source": [
    "Building Models"
   ]
  },
  {
   "cell_type": "code",
   "execution_count": 27,
   "metadata": {},
   "outputs": [],
   "source": [
    "DT = DecisionTreeClassifier()\n",
    "RF = RandomForestClassifier()\n",
    "XGB = xgb.XGBClassifier(n_estimators = 100)\n",
    "ADA = AdaBoostClassifier(n_estimators = 100)"
   ]
  },
  {
   "cell_type": "code",
   "execution_count": 28,
   "metadata": {},
   "outputs": [
    {
     "data": {
      "text/html": [
       "<style>#sk-container-id-1 {color: black;background-color: white;}#sk-container-id-1 pre{padding: 0;}#sk-container-id-1 div.sk-toggleable {background-color: white;}#sk-container-id-1 label.sk-toggleable__label {cursor: pointer;display: block;width: 100%;margin-bottom: 0;padding: 0.3em;box-sizing: border-box;text-align: center;}#sk-container-id-1 label.sk-toggleable__label-arrow:before {content: \"▸\";float: left;margin-right: 0.25em;color: #696969;}#sk-container-id-1 label.sk-toggleable__label-arrow:hover:before {color: black;}#sk-container-id-1 div.sk-estimator:hover label.sk-toggleable__label-arrow:before {color: black;}#sk-container-id-1 div.sk-toggleable__content {max-height: 0;max-width: 0;overflow: hidden;text-align: left;background-color: #f0f8ff;}#sk-container-id-1 div.sk-toggleable__content pre {margin: 0.2em;color: black;border-radius: 0.25em;background-color: #f0f8ff;}#sk-container-id-1 input.sk-toggleable__control:checked~div.sk-toggleable__content {max-height: 200px;max-width: 100%;overflow: auto;}#sk-container-id-1 input.sk-toggleable__control:checked~label.sk-toggleable__label-arrow:before {content: \"▾\";}#sk-container-id-1 div.sk-estimator input.sk-toggleable__control:checked~label.sk-toggleable__label {background-color: #d4ebff;}#sk-container-id-1 div.sk-label input.sk-toggleable__control:checked~label.sk-toggleable__label {background-color: #d4ebff;}#sk-container-id-1 input.sk-hidden--visually {border: 0;clip: rect(1px 1px 1px 1px);clip: rect(1px, 1px, 1px, 1px);height: 1px;margin: -1px;overflow: hidden;padding: 0;position: absolute;width: 1px;}#sk-container-id-1 div.sk-estimator {font-family: monospace;background-color: #f0f8ff;border: 1px dotted black;border-radius: 0.25em;box-sizing: border-box;margin-bottom: 0.5em;}#sk-container-id-1 div.sk-estimator:hover {background-color: #d4ebff;}#sk-container-id-1 div.sk-parallel-item::after {content: \"\";width: 100%;border-bottom: 1px solid gray;flex-grow: 1;}#sk-container-id-1 div.sk-label:hover label.sk-toggleable__label {background-color: #d4ebff;}#sk-container-id-1 div.sk-serial::before {content: \"\";position: absolute;border-left: 1px solid gray;box-sizing: border-box;top: 0;bottom: 0;left: 50%;z-index: 0;}#sk-container-id-1 div.sk-serial {display: flex;flex-direction: column;align-items: center;background-color: white;padding-right: 0.2em;padding-left: 0.2em;position: relative;}#sk-container-id-1 div.sk-item {position: relative;z-index: 1;}#sk-container-id-1 div.sk-parallel {display: flex;align-items: stretch;justify-content: center;background-color: white;position: relative;}#sk-container-id-1 div.sk-item::before, #sk-container-id-1 div.sk-parallel-item::before {content: \"\";position: absolute;border-left: 1px solid gray;box-sizing: border-box;top: 0;bottom: 0;left: 50%;z-index: -1;}#sk-container-id-1 div.sk-parallel-item {display: flex;flex-direction: column;z-index: 1;position: relative;background-color: white;}#sk-container-id-1 div.sk-parallel-item:first-child::after {align-self: flex-end;width: 50%;}#sk-container-id-1 div.sk-parallel-item:last-child::after {align-self: flex-start;width: 50%;}#sk-container-id-1 div.sk-parallel-item:only-child::after {width: 0;}#sk-container-id-1 div.sk-dashed-wrapped {border: 1px dashed gray;margin: 0 0.4em 0.5em 0.4em;box-sizing: border-box;padding-bottom: 0.4em;background-color: white;}#sk-container-id-1 div.sk-label label {font-family: monospace;font-weight: bold;display: inline-block;line-height: 1.2em;}#sk-container-id-1 div.sk-label-container {text-align: center;}#sk-container-id-1 div.sk-container {/* jupyter's `normalize.less` sets `[hidden] { display: none; }` but bootstrap.min.css set `[hidden] { display: none !important; }` so we also need the `!important` here to be able to override the default hidden behavior on the sphinx rendered scikit-learn.org. See: https://github.com/scikit-learn/scikit-learn/issues/21755 */display: inline-block !important;position: relative;}#sk-container-id-1 div.sk-text-repr-fallback {display: none;}</style><div id=\"sk-container-id-1\" class=\"sk-top-container\"><div class=\"sk-text-repr-fallback\"><pre>AdaBoostClassifier(n_estimators=100)</pre><b>In a Jupyter environment, please rerun this cell to show the HTML representation or trust the notebook. <br />On GitHub, the HTML representation is unable to render, please try loading this page with nbviewer.org.</b></div><div class=\"sk-container\" hidden><div class=\"sk-item\"><div class=\"sk-estimator sk-toggleable\"><input class=\"sk-toggleable__control sk-hidden--visually\" id=\"sk-estimator-id-1\" type=\"checkbox\" checked><label for=\"sk-estimator-id-1\" class=\"sk-toggleable__label sk-toggleable__label-arrow\">AdaBoostClassifier</label><div class=\"sk-toggleable__content\"><pre>AdaBoostClassifier(n_estimators=100)</pre></div></div></div></div></div>"
      ],
      "text/plain": [
       "AdaBoostClassifier(n_estimators=100)"
      ]
     },
     "execution_count": 28,
     "metadata": {},
     "output_type": "execute_result"
    }
   ],
   "source": [
    "DT.fit(X_train, y_train)\n",
    "RF.fit(X_train, y_train)\n",
    "XGB.fit(X_train, y_train)\n",
    "ADA.fit(X_train, y_train)"
   ]
  },
  {
   "cell_type": "markdown",
   "metadata": {},
   "source": [
    "Evaluate Models"
   ]
  },
  {
   "cell_type": "code",
   "execution_count": 29,
   "metadata": {},
   "outputs": [
    {
     "name": "stdout",
     "output_type": "stream",
     "text": [
      "DT test results:\n",
      "               precision    recall  f1-score   support\n",
      "\n",
      "           0       0.74      0.76      0.75    126886\n",
      "           1       0.49      0.47      0.48     63467\n",
      "\n",
      "    accuracy                           0.66    190353\n",
      "   macro avg       0.61      0.61      0.61    190353\n",
      "weighted avg       0.65      0.66      0.66    190353\n",
      "\n",
      "DT validation results:\n",
      "               precision    recall  f1-score   support\n",
      "\n",
      "           0       0.89      0.69      0.78    505317\n",
      "           1       0.19      0.47      0.27     79160\n",
      "\n",
      "    accuracy                           0.66    584477\n",
      "   macro avg       0.54      0.58      0.52    584477\n",
      "weighted avg       0.80      0.66      0.71    584477\n",
      "\n"
     ]
    }
   ],
   "source": [
    "DT_pred = DT.predict(X_test)\n",
    "print(f\"DT test results:\\n {classification_report(y_test, DT_pred)}\")\n",
    "DT_val_pred = DT.predict(val_X)\n",
    "print(f\"DT validation results:\\n {classification_report(val_y, DT_val_pred)}\")"
   ]
  },
  {
   "cell_type": "code",
   "execution_count": 30,
   "metadata": {},
   "outputs": [
    {
     "name": "stdout",
     "output_type": "stream",
     "text": [
      "RF test results:\n",
      "               precision    recall  f1-score   support\n",
      "\n",
      "           0       0.75      0.86      0.80    126886\n",
      "           1       0.60      0.41      0.49     63467\n",
      "\n",
      "    accuracy                           0.71    190353\n",
      "   macro avg       0.67      0.64      0.64    190353\n",
      "weighted avg       0.70      0.71      0.70    190353\n",
      "\n",
      "RF validation results:\n",
      "               precision    recall  f1-score   support\n",
      "\n",
      "           0       0.90      0.82      0.86    505317\n",
      "           1       0.27      0.42      0.32     79160\n",
      "\n",
      "    accuracy                           0.77    584477\n",
      "   macro avg       0.58      0.62      0.59    584477\n",
      "weighted avg       0.81      0.77      0.79    584477\n",
      "\n"
     ]
    }
   ],
   "source": [
    "RF_pred = RF.predict(X_test)\n",
    "print(f\"RF test results:\\n {classification_report(y_test, RF_pred)}\")\n",
    "\n",
    "RF_val_pred = RF.predict(val_X)\n",
    "print(f\"RF validation results:\\n {classification_report(val_y, RF_val_pred)}\")"
   ]
  },
  {
   "cell_type": "code",
   "execution_count": 33,
   "metadata": {},
   "outputs": [
    {
     "name": "stdout",
     "output_type": "stream",
     "text": [
      "XGB test results:\n",
      "               precision    recall  f1-score   support\n",
      "\n",
      "           0       0.73      0.88      0.80    126886\n",
      "           1       0.60      0.36      0.45     63467\n",
      "\n",
      "    accuracy                           0.71    190353\n",
      "   macro avg       0.67      0.62      0.63    190353\n",
      "weighted avg       0.69      0.71      0.68    190353\n",
      "\n",
      "XGB validation results:\n",
      "               precision    recall  f1-score   support\n",
      "\n",
      "           0       0.90      0.88      0.89    505317\n",
      "           1       0.32      0.36      0.34     79160\n",
      "\n",
      "    accuracy                           0.81    584477\n",
      "   macro avg       0.61      0.62      0.61    584477\n",
      "weighted avg       0.82      0.81      0.81    584477\n",
      "\n"
     ]
    }
   ],
   "source": [
    "XGB_pred = XGB.predict(X_test)\n",
    "print(f\"XGB test results:\\n {classification_report(y_test, XGB_pred)}\")\n",
    "\n",
    "XGB_val_pred = XGB.predict(val_X)\n",
    "print(f\"XGB validation results:\\n {classification_report(val_y, XGB_val_pred)}\")"
   ]
  },
  {
   "cell_type": "code",
   "execution_count": 32,
   "metadata": {},
   "outputs": [
    {
     "name": "stdout",
     "output_type": "stream",
     "text": [
      "ADA test results:\n",
      "               precision    recall  f1-score   support\n",
      "\n",
      "           0       0.72      0.91      0.80    126886\n",
      "           1       0.61      0.29      0.39     63467\n",
      "\n",
      "    accuracy                           0.70    190353\n",
      "   macro avg       0.67      0.60      0.60    190353\n",
      "weighted avg       0.68      0.70      0.67    190353\n",
      "\n",
      "ADA validation results:\n",
      "               precision    recall  f1-score   support\n",
      "\n",
      "           0       0.89      0.91      0.90    505317\n",
      "           1       0.33      0.29      0.31     79160\n",
      "\n",
      "    accuracy                           0.82    584477\n",
      "   macro avg       0.61      0.60      0.60    584477\n",
      "weighted avg       0.81      0.82      0.82    584477\n",
      "\n"
     ]
    }
   ],
   "source": [
    "ADA_pred = ADA.predict(X_test)\n",
    "print(f\"ADA test results:\\n {classification_report(y_test, ADA_pred)}\")\n",
    "\n",
    "ADA_val_pred = ADA.predict(val_X)\n",
    "print(f\"ADA validation results:\\n {classification_report(val_y, ADA_val_pred)}\")"
   ]
  }
 ],
 "metadata": {
  "kernelspec": {
   "display_name": "Python 3",
   "language": "python",
   "name": "python3"
  },
  "language_info": {
   "codemirror_mode": {
    "name": "ipython",
    "version": 3
   },
   "file_extension": ".py",
   "mimetype": "text/x-python",
   "name": "python",
   "nbconvert_exporter": "python",
   "pygments_lexer": "ipython3",
   "version": "3.10.7"
  }
 },
 "nbformat": 4,
 "nbformat_minor": 2
}
